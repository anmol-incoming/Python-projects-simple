{
 "cells": [
  {
   "cell_type": "code",
   "execution_count": 1,
   "id": "844c3845-128e-4c2f-948e-b55af61e6c59",
   "metadata": {},
   "outputs": [],
   "source": [
    "import numpy as np"
   ]
  },
  {
   "cell_type": "code",
   "execution_count": 131,
   "id": "57136fe3-59a6-4b8f-805b-1c98d6c99341",
   "metadata": {},
   "outputs": [
    {
     "name": "stdout",
     "output_type": "stream",
     "text": [
      "Enter the number of simulation you want to run:- 20\n"
     ]
    },
    {
     "name": "stdout",
     "output_type": "stream",
     "text": [
      "your 20 simulation generated Heads=12 and Tails=8\n"
     ]
    }
   ],
   "source": [
    "def coinToss_Initilization():\n",
    "    while True:\n",
    "        a=input(\"Enter the number of simulation you want to run:-\")\n",
    "        if  a.isdigit():\n",
    "            r=int(a)\n",
    "            return r\n",
    "        else:\n",
    "            print(\"Invaild input.Please enter number more than 0\")       \n",
    "\n",
    "def coinToss_vectorization(n):\n",
    "    b=np.random.choice([0,1],size=n)\n",
    "\n",
    "    return b\n",
    "\n",
    "def coinToss_count(x):\n",
    "    c=np.bincount(x)\n",
    "    return c\n",
    "\n",
    "def main():\n",
    "    n=coinToss_Initilization()\n",
    "    x=coinToss_vectorization(n)\n",
    "    y=coinToss_count(x)\n",
    "    print(f'Your {n} simulation generated Heads={y[0]} and Tails={y[1]}')\n",
    "    \n",
    "main()\n"
   ]
  },
  {
   "cell_type": "code",
   "execution_count": null,
   "id": "7f5cdda1-47b9-43d6-86aa-f8effb211f39",
   "metadata": {},
   "outputs": [
    {
     "name": "stdout",
     "output_type": "stream",
     "text": [
      "[0 0 1 1 0 1 1 0 0 1 0 0 0 0 0 1 1 1 0 1 1 1 1 0 1 0 0 1 0 0 0 1 0 0 0 1 1\n",
      " 1 1 0 1 1 1 1 1 0 1 0 0 0 1 1 1 0 1 1 0 1 0 0 0 1 0 1 1 1 0 1 0 0 0 1 0 0\n",
      " 0 1 0 0 1 1 0 0 1 0 0 0 1 1 0 1 0 1 1 1 0 1 0 0 1 1]\n",
      "[50 50]\n"
     ]
    }
   ],
   "source": [
    "# you can also use this instead of np.random.choice\n",
    "def coinToss_vec():\n",
    "    b=np.random.randint(0,2,size=100)\n",
    "    print(b)\n",
    "    print(np.bincount(b))\n",
    "\n",
    "coinToss_vec()"
   ]
  },
  {
   "cell_type": "code",
   "execution_count": null,
   "id": "b7123381-1d54-46ba-9a70-fbfc0132d9dc",
   "metadata": {},
   "outputs": [],
   "source": []
  }
 ],
 "metadata": {
  "kernelspec": {
   "display_name": "Python [conda env:base] *",
   "language": "python",
   "name": "conda-base-py"
  },
  "language_info": {
   "codemirror_mode": {
    "name": "ipython",
    "version": 3
   },
   "file_extension": ".py",
   "mimetype": "text/x-python",
   "name": "python",
   "nbconvert_exporter": "python",
   "pygments_lexer": "ipython3",
   "version": "3.12.7"
  }
 },
 "nbformat": 4,
 "nbformat_minor": 5
}
