{
 "cells": [
  {
   "cell_type": "code",
   "execution_count": 1,
   "id": "39c7f739-90a9-4e01-b21b-99dfb16a2268",
   "metadata": {},
   "outputs": [],
   "source": [
    "import numpy as np"
   ]
  },
  {
   "cell_type": "code",
   "execution_count": 81,
   "id": "22649047-5386-4fde-b19a-ea3a8dd1ff97",
   "metadata": {},
   "outputs": [
    {
     "name": "stdin",
     "output_type": "stream",
     "text": [
      "Enter the number of rows: 2\n",
      "Enter the number of columns: 2\n",
      "Enter the elemnt for 1 row and cloumn 1: 1\n",
      "Enter the elemnt for 1 row and cloumn 2: 2\n",
      "Enter the elemnt for 2 row and cloumn 1: 3\n",
      "Enter the elemnt for 2 row and cloumn 2: 4\n",
      "Enter the number of rows: 2\n",
      "Enter the number of columns: 2\n",
      "Enter the elemnt for 1 row and cloumn 1: 1\n",
      "Enter the elemnt for 1 row and cloumn 2: 2\n",
      "Enter the elemnt for 2 row and cloumn 1: 3\n",
      "Enter the elemnt for 2 row and cloumn 2: 4\n",
      "Enter the matrix operation you want to perform\n",
      "                        1.Addition\n",
      "                        2.Subtraction\n",
      "                        3.Multiplication\n",
      "                        4.Transpose: 3\n"
     ]
    },
    {
     "name": "stdout",
     "output_type": "stream",
     "text": [
      "Your Matrix Claculation is :-\n",
      "[ 7 10]\n",
      "[15 22]\n"
     ]
    }
   ],
   "source": [
    "def input_matrix1():\n",
    "    rows=int(input(\"Enter the number of rows:\"))\n",
    "    column=int(input(\"Enter the number of columns:\"))\n",
    "    matrix_1=[]\n",
    "    for i in range(rows):\n",
    "        row=[]\n",
    "        for j in range(column):\n",
    "            val=int(input(f'Enter the elemnt for {i+1} row and cloumn {j+1}:'))\n",
    "            row.append(val)\n",
    "        matrix_1.append(row)\n",
    "    return np.array(matrix_1)\n",
    "\n",
    "\n",
    "def input_matrix2():\n",
    "    rows=int(input(\"Enter the number of rows:\"))\n",
    "    column=int(input(\"Enter the number of columns:\"))\n",
    "    matrix_2=[]\n",
    "    for i in range(rows):\n",
    "        row=[]\n",
    "        for j in range(column):\n",
    "            val=int(input(f'Enter the elemnt for {i+1} row and cloumn {j+1}:'))\n",
    "            row.append(val)\n",
    "        matrix_2.append(row)\n",
    "    return np.array(matrix_2)  \n",
    "\n",
    "def calculation_menu(m1,m2):\n",
    "    operation=int(input(\"\"\"Enter the matrix operation you want to perform\n",
    "                        1.Addition\n",
    "                        2.Subtraction\n",
    "                        3.Multiplication\n",
    "                        4.Transpose:\"\"\"))\n",
    "    \n",
    "    if operation==1:        \n",
    "        return matrix_addition(m1,m2)\n",
    "    if operation==2:\n",
    "        return matrix_subtraction(m1,m2)\n",
    "    if operation==3:\n",
    "        return matrix_multiplication(m1,m2)\n",
    "    if operation==4:\n",
    "        b=int(input(\"\"\"Do you want to transpose matrix 1 or matrix 2\n",
    "                        1.matrix 1\n",
    "                        2.matrix 2 \"\"\"))\n",
    "        if b==1:\n",
    "            return matrix_Transpose_1(m1)\n",
    "        elif b==2:\n",
    "            return matrix_Transpose_2(m2)\n",
    "        else:\n",
    "            print(\"Invalid Input\")\n",
    "\n",
    "def matrix_addition(m1,m2):\n",
    "    return np.add(m1,m2)\n",
    "\n",
    "def matrix_subtraction(m1,m2):\n",
    "    return np.subtract(m1,m2)       \n",
    "\n",
    "def matrix_multiplication(m1,m2):\n",
    "    return np.dot(m1,m2)\n",
    "    \n",
    "def matrix_Transpose_1(m1):\n",
    "    return m1.T\n",
    "\n",
    "def matrix_Transpose_2(m2):\n",
    "    return m2.T\n",
    "\n",
    "def main():\n",
    "    m1=input_matrix1()\n",
    "    m2=input_matrix2()\n",
    "    result=calculation_menu(m1,m2)\n",
    "    print(\"Your Matrix Claculation is :-\")\n",
    "    for row in result:\n",
    "        print(row)\n",
    "    \n",
    "main()\n",
    "    "
   ]
  },
  {
   "cell_type": "code",
   "execution_count": null,
   "id": "39260e45-8457-4b06-93d9-7b5728de6c48",
   "metadata": {},
   "outputs": [],
   "source": []
  }
 ],
 "metadata": {
  "kernelspec": {
   "display_name": "Python [conda env:base] *",
   "language": "python",
   "name": "conda-base-py"
  },
  "language_info": {
   "codemirror_mode": {
    "name": "ipython",
    "version": 3
   },
   "file_extension": ".py",
   "mimetype": "text/x-python",
   "name": "python",
   "nbconvert_exporter": "python",
   "pygments_lexer": "ipython3",
   "version": "3.12.7"
  }
 },
 "nbformat": 4,
 "nbformat_minor": 5
}
