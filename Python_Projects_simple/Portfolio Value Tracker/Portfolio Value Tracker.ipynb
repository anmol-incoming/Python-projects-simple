{
 "cells": [
  {
   "cell_type": "code",
   "execution_count": 17,
   "id": "7fa0de42-165c-445f-89c0-12663cc83902",
   "metadata": {},
   "outputs": [
    {
     "name": "stdin",
     "output_type": "stream",
     "text": [
      "Do you have an account\n",
      "                                            1.Yes\n",
      "                                            2.No\n",
      "                                             1\n",
      "Enter your username: Anon\n",
      "Enter your pin 88888\n"
     ]
    },
    {
     "name": "stdout",
     "output_type": "stream",
     "text": [
      "login successful\n"
     ]
    },
    {
     "name": "stdin",
     "output_type": "stream",
     "text": [
      "Enter the task You want to perform:\n",
      "                        1.Add Stock/Update Current owned stock \n",
      "                        2.Check Your Portfolio\n",
      "                        3.Calculate total Value\n",
      "                        4.Logout 3\n"
     ]
    },
    {
     "name": "stdout",
     "output_type": "stream",
     "text": [
      "Your Total Calculated information:-\n",
      "1.MRF:- ₹23349276.0\n",
      "2.X:- ₹5566164.0\n",
      "Your Total Portfolio value is ₹28915440.0\n"
     ]
    },
    {
     "name": "stdin",
     "output_type": "stream",
     "text": [
      "Enter the task You want to perform:\n",
      "                        1.Add Stock/Update Current owned stock \n",
      "                        2.Check Your Portfolio\n",
      "                        3.Calculate total Value\n",
      "                        4.Logout 2\n"
     ]
    },
    {
     "name": "stdout",
     "output_type": "stream",
     "text": [
      "Your Portfolio:\n",
      "1.MRF:-\n",
      "    Price:- ₹432394\n",
      "    Quantity:-54\n",
      "2.X:-\n",
      "    Price:- ₹73239\n",
      "    Quantity:-76\n"
     ]
    },
    {
     "name": "stdin",
     "output_type": "stream",
     "text": [
      "Enter the task You want to perform:\n",
      "                        1.Add Stock/Update Current owned stock \n",
      "                        2.Check Your Portfolio\n",
      "                        3.Calculate total Value\n",
      "                        4.Logout 4\n"
     ]
    },
    {
     "name": "stdout",
     "output_type": "stream",
     "text": [
      "logged out  successfully\n"
     ]
    }
   ],
   "source": [
    "import os \n",
    "import json\n",
    "if os.path.exists(\"users.json\"):\n",
    "    with open(\"users.json\",\"r\") as file:\n",
    "        users=json.load(file)\n",
    "else:\n",
    "    users={}\n",
    "def Portfolio_Value_Tracker(users):\n",
    "    \n",
    "    while True :\n",
    "        try:\n",
    "            account_conformation=input(\"\"\"Do you have an account\n",
    "                                            1.Yes\n",
    "                                            2.No\n",
    "                                            \"\"\")\n",
    "            if account_conformation not in [\"1\",\"2\"]:\n",
    "                raise ValueError\n",
    "        except ValueError:\n",
    "            print(\"Enter either 1 or 2\")\n",
    "        else:\n",
    "            if account_conformation==\"1\":\n",
    "                name=input(\"Enter your username:\")\n",
    "                password=input(\"Enter your pin\")\n",
    "                if name in users and users[name][\"PIN\"]==password:\n",
    "                    print(\"login successful\")\n",
    "                    logged_in_user = name\n",
    "                    break\n",
    "                else:\n",
    "                    print(\"Invalid login,Please try again.\")\n",
    "                    continue\n",
    "                           \n",
    "            elif account_conformation==\"2\":\n",
    "                account_creation_info=input(\"Enter Your name :\")\n",
    "                account_creation_pin=input(\"Enter Your Pin:\")\n",
    "                if len(account_creation_pin) != 5:\n",
    "                    print(\"it should be 5 digit\")\n",
    "                else:  \n",
    "                    users[account_creation_info]={\n",
    "                        \"PIN\":account_creation_pin,\n",
    "                        \"Portofolio\":{}\n",
    "                        \n",
    "                    }\n",
    "                    logged_in_user = account_creation_info \n",
    "                    \n",
    "                    \n",
    "                    while True :\n",
    "                        try :\n",
    "                        \n",
    "                            a=input(\"\"\"Do you own stock:\n",
    "                                        1.Yes\n",
    "                                        2.No\"\"\")\n",
    "                            if a not in [\"1\",'2']:\n",
    "                                raise ValueError\n",
    "                        except ValueError:\n",
    "                            print(\"Enter either 1 or 2\")\n",
    "                        else:\n",
    "                        \n",
    "                            if a==\"1\":\n",
    "                                account_creation_Stock=input(\"Enter the name of the stocks you own:\")\n",
    "                                account_creation_Current_price=int(input(\"Enter the current price of the stock in ₹:\"))\n",
    "                                account_creation_Quantity=int(input(\"Enter how much quantity of that stock you own:\"))\n",
    "                                users[account_creation_info][\"Portofolio\"][account_creation_Stock]= {\n",
    "                                        \"Price\":account_creation_Current_price,\n",
    "                                        \"Quantity Owned\": account_creation_Quantity\n",
    "                                                            }\n",
    "                                        \n",
    "                                print(\"Account Created successfully \")\n",
    "                                with open(\"users.json\", \"w\") as file:\n",
    "                                    json.dump(users, file, indent=2)\n",
    "                                break \n",
    "                            elif a==\"2\":\n",
    "                                print(\"Account Created Successfully\")\n",
    "                                break\n",
    "                    break \n",
    "                                \n",
    "    while True :\n",
    "        try :\n",
    "            task=input(\"\"\"Enter the task You want to perform:\n",
    "                        1.Add Stock/Update Current owned stock \n",
    "                        2.Check Your Portfolio\n",
    "                        3.Calculate total Value\n",
    "                        4.Logout\"\"\")\n",
    "            if task not in [\"1\",'2','3','4']:\n",
    "                \n",
    "                raise ValueError\n",
    "        except ValueError:\n",
    "            print(\"Enter only number  between 1 to 4 \")\n",
    "        else:\n",
    "                            \n",
    "            if task ==\"1\":\n",
    "                account_creation_Stock=input(\"Enter the name of the stocks you own:\")\n",
    "                account_creation_Current_price=input(\"Enter the current price of the stock in ₹ :\")\n",
    "                account_creation_Quantity=input(\"Enter how much quantity of that stock you own :\")\n",
    "                users[logged_in_user][\"Portofolio\"][account_creation_Stock]={\"Price\":account_creation_Current_price,\n",
    "                                                                     \"Quantity Owned\":account_creation_Quantity}\n",
    "                print(\"Stock Added Successfully\")\n",
    "                with open(\"users.json\", \"w\") as file:\n",
    "                    \n",
    "                    json.dump(users, file, indent=2)\n",
    "            if task==\"2\":\n",
    "                portfolio = users[logged_in_user][\"Portofolio\"]\n",
    "                if not portfolio:\n",
    "                    print(\" Portfolio is empty.\")\n",
    "                else:\n",
    "                    print(\"Your Portfolio:\")\n",
    "                    for i,(sub_key,sub_value) in enumerate(portfolio.items(),1): \n",
    "                        \n",
    "                        print(f'{i}.{sub_key}:-')\n",
    "                        print(f'    Price:- ₹{sub_value[\"Price\"]}')\n",
    "                        print(f'    Quantity:-{sub_value[\"Quantity Owned\"]}')                                   \n",
    "            if task==\"3\":\n",
    "                print(\"Your Total Calculated information:-\")\n",
    "                total_value=0\n",
    "                for i,(sub_key,sub_value) in enumerate(users[logged_in_user][\"Portofolio\"].items(),1):\n",
    "                    \n",
    "                    stock_price=float(sub_value[\"Price\"])\n",
    "                    stock_quantity=float(sub_value[\"Quantity Owned\"])\n",
    "                    total =stock_price*stock_quantity                                 \n",
    "                    print(f'{i}.{sub_key}:- ₹{total}')\n",
    "                    total_value+=total \n",
    "                print(f'Your Total Portfolio value is ₹{total_value}')                                 \n",
    "            if task==\"4\":\n",
    "                \n",
    "                return  \"logged out  successfully\" \n",
    "            \n",
    "\n",
    "result=Portfolio_Value_Tracker(users)\n",
    "print(result)"
   ]
  },
  {
   "cell_type": "code",
   "execution_count": null,
   "id": "5a1ae2ef-c3c4-49cf-94c6-fdf4079e75fe",
   "metadata": {},
   "outputs": [],
   "source": []
  }
 ],
 "metadata": {
  "kernelspec": {
   "display_name": "Python [conda env:base] *",
   "language": "python",
   "name": "conda-base-py"
  },
  "language_info": {
   "codemirror_mode": {
    "name": "ipython",
    "version": 3
   },
   "file_extension": ".py",
   "mimetype": "text/x-python",
   "name": "python",
   "nbconvert_exporter": "python",
   "pygments_lexer": "ipython3",
   "version": "3.12.7"
  }
 },
 "nbformat": 4,
 "nbformat_minor": 5
}
