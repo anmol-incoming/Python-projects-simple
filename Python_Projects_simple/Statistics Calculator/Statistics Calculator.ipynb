{
 "cells": [
  {
   "cell_type": "code",
   "execution_count": 31,
   "id": "a9351602-5c8a-425b-9a0b-e23074d47a3f",
   "metadata": {},
   "outputs": [],
   "source": [
    "import numpy as np\n",
    "from scipy import stats"
   ]
  },
  {
   "cell_type": "code",
   "execution_count": 45,
   "id": "8e59055a-3b15-4148-8590-5394ee9342a0",
   "metadata": {},
   "outputs": [
    {
     "name": "stdin",
     "output_type": "stream",
     "text": [
      "Enter the total length of numbers   5\n",
      "Enter the numbers to be you want to add  12\n"
     ]
    },
    {
     "name": "stdout",
     "output_type": "stream",
     "text": [
      "Number added successfully!!\n"
     ]
    },
    {
     "name": "stdin",
     "output_type": "stream",
     "text": [
      "Enter the numbers to be you want to add  13\n"
     ]
    },
    {
     "name": "stdout",
     "output_type": "stream",
     "text": [
      "Number added successfully!!\n"
     ]
    },
    {
     "name": "stdin",
     "output_type": "stream",
     "text": [
      "Enter the numbers to be you want to add  14\n"
     ]
    },
    {
     "name": "stdout",
     "output_type": "stream",
     "text": [
      "Number added successfully!!\n"
     ]
    },
    {
     "name": "stdin",
     "output_type": "stream",
     "text": [
      "Enter the numbers to be you want to add  15\n"
     ]
    },
    {
     "name": "stdout",
     "output_type": "stream",
     "text": [
      "Number added successfully!!\n"
     ]
    },
    {
     "name": "stdin",
     "output_type": "stream",
     "text": [
      "Enter the numbers to be you want to add  16\n"
     ]
    },
    {
     "name": "stdout",
     "output_type": "stream",
     "text": [
      "Number added successfully!!\n"
     ]
    },
    {
     "name": "stdin",
     "output_type": "stream",
     "text": [
      "Enter the opertation you want to perform :\n",
      "                    1.Mean\n",
      "                    2.Median\n",
      "                    3.Mode\n",
      "                    4.Standard Deviation\n",
      "                    5.Minimum number\n",
      "                    6.Maximum number 4\n"
     ]
    },
    {
     "name": "stdout",
     "output_type": "stream",
     "text": [
      "Your result from the following operation is : 1.4142135623730951\n"
     ]
    }
   ],
   "source": [
    "def input_Matrix():\n",
    "    l=[]\n",
    "    a=int(input(\"Enter the total length of numbers  \"))\n",
    "    for i in range(a):\n",
    "        mat=int(input(\"Enter the numbers to be you want to add \"))\n",
    "        l.append(mat)\n",
    "        print(\"Number added successfully!!\")\n",
    "    return np.array(l)\n",
    "\n",
    "\n",
    "def operation(m):\n",
    "    b=int(input(\"\"\"Enter the opertation you want to perform :\n",
    "                    1.Mean\n",
    "                    2.Median\n",
    "                    3.Mode\n",
    "                    4.Standard Deviation\n",
    "                    5.Minimum number\n",
    "                    6.Maximum number\"\"\"))\n",
    "    if b==1:\n",
    "        return mean(m)\n",
    "    elif b==2:\n",
    "        return median(m)\n",
    "    elif b==3:\n",
    "        return mode(m)\n",
    "    elif b==4:\n",
    "        return std(m)\n",
    "    elif b==5:\n",
    "        return min_num(m)\n",
    "    elif b==6:\n",
    "        return max_num(m)\n",
    "    else:\n",
    "        print(\"Invalid number\")\n",
    "\n",
    "def mean(m):\n",
    "    return np.mean(m)\n",
    "def median(m):\n",
    "    return np.median(m)\n",
    "def mode(m):\n",
    "    return stats.mode(m,keepdims=True).mode[0]\n",
    "def std(m):\n",
    "    return np.std(m)\n",
    "def min_num(m):\n",
    "    return np.min(m)\n",
    "def max_num(m):\n",
    "    return np.max(m)\n",
    "\n",
    "def main():\n",
    "    m=input_Matrix()\n",
    "    result=operation(m)\n",
    "    print(\"Your result from the following operation is :\" ,result)\n",
    "\n",
    "main()\n",
    "\n"
   ]
  },
  {
   "cell_type": "code",
   "execution_count": null,
   "id": "b37e9bbf-a4d7-4e7f-a58c-1cd6d958a9cf",
   "metadata": {},
   "outputs": [],
   "source": []
  }
 ],
 "metadata": {
  "kernelspec": {
   "display_name": "Python [conda env:base] *",
   "language": "python",
   "name": "conda-base-py"
  },
  "language_info": {
   "codemirror_mode": {
    "name": "ipython",
    "version": 3
   },
   "file_extension": ".py",
   "mimetype": "text/x-python",
   "name": "python",
   "nbconvert_exporter": "python",
   "pygments_lexer": "ipython3",
   "version": "3.12.7"
  }
 },
 "nbformat": 4,
 "nbformat_minor": 5
}
