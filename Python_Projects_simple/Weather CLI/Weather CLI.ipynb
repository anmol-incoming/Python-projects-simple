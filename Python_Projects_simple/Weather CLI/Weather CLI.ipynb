{
 "cells": [
  {
   "cell_type": "code",
   "execution_count": null,
   "id": "d4466476-a4d9-43a1-a9b4-804ec26f8ed7",
   "metadata": {},
   "outputs": [
    {
     "name": "stdout",
     "output_type": "stream",
     "text": [
      "Enter the name of your city:- Mumbai\n"
     ]
    }
   ],
   "source": [
    "import requests\n",
    "a_key=\"\"#UPLOAD YOUR OWN API KEY IN \"\"\n",
    "b_key=\"https://api.openweathermap.org/data/2.5/weather\"\n",
    "\n",
    "city_name=input(\"Enter the name of your city:-\")"
   ]
  },
  {
   "cell_type": "code",
   "execution_count": null,
   "id": "276e8d61-7af1-4618-afa9-d021b90e746b",
   "metadata": {},
   "outputs": [],
   "source": [
    "my_parameter={\n",
    "    \"q\":city_name,\n",
    "    \"appid\":a_key,\n",
    "    \"units\":\"metric\"\n",
    "}"
   ]
  },
  {
   "cell_type": "code",
   "execution_count": 209,
   "id": "4eecd75d-59d0-4203-b1e7-38f6283817a7",
   "metadata": {},
   "outputs": [],
   "source": [
    "response=requests.get(b_key,params=my_parameter)\n",
    "data=response.json()"
   ]
  },
  {
   "cell_type": "code",
   "execution_count": 211,
   "id": "da697d7a-0d49-457c-9e55-bdb5a0e50163",
   "metadata": {},
   "outputs": [
    {
     "name": "stdout",
     "output_type": "stream",
     "text": [
      "{'coord': {'lon': 72.8479, 'lat': 19.0144}, 'weather': [{'id': 804, 'main': 'Clouds', 'description': 'overcast clouds', 'icon': '04d'}], 'base': 'stations', 'main': {'temp': 27.44, 'feels_like': 31.11, 'temp_min': 27.44, 'temp_max': 27.44, 'pressure': 1005, 'humidity': 83, 'sea_level': 1005, 'grnd_level': 1004}, 'visibility': 10000, 'wind': {'speed': 7.29, 'deg': 237, 'gust': 9.21}, 'clouds': {'all': 100}, 'dt': 1752500531, 'sys': {'country': 'IN', 'sunrise': 1752453535, 'sunset': 1752500974}, 'timezone': 19800, 'id': 1275339, 'name': 'Mumbai', 'cod': 200}\n"
     ]
    }
   ],
   "source": [
    "print(data)"
   ]
  },
  {
   "cell_type": "code",
   "execution_count": 213,
   "id": "a9ef8d4d-ec2e-427d-98bf-2f5d6edae740",
   "metadata": {},
   "outputs": [
    {
     "name": "stdout",
     "output_type": "stream",
     "text": [
      "dict_keys(['coord', 'weather', 'base', 'main', 'visibility', 'wind', 'clouds', 'dt', 'sys', 'timezone', 'id', 'name', 'cod'])\n"
     ]
    }
   ],
   "source": [
    "print(data.keys())"
   ]
  },
  {
   "cell_type": "code",
   "execution_count": 215,
   "id": "b22dd9f1-1b90-42a1-85f3-a14c5b248acc",
   "metadata": {},
   "outputs": [
    {
     "data": {
      "text/plain": [
       "200"
      ]
     },
     "execution_count": 215,
     "metadata": {},
     "output_type": "execute_result"
    }
   ],
   "source": [
    "response.status_code"
   ]
  },
  {
   "cell_type": "code",
   "execution_count": 217,
   "id": "fb2b9d14-8bbf-4e2e-8e35-e353a779bc9b",
   "metadata": {},
   "outputs": [
    {
     "name": "stdout",
     "output_type": "stream",
     "text": [
      "City Name: Mumbai\n",
      "Country Name: IN\n",
      "Temperature: 27.44°C\n",
      "Feels Like: 31.11°C\n",
      "Minimum Temperature: 27.44°C\n",
      "Maximum Temperature: 27.44°C\n",
      "Weather Conditions: overcast clouds\n"
     ]
    }
   ],
   "source": [
    "if response.status_code==200:\n",
    "    temp=data['main']['temp']\n",
    "    feel_like=data['main']['feels_like']\n",
    "    min_temp=data['main']['temp_min']\n",
    "    max_temp=data['main']['temp_max']\n",
    "    country=data['sys']['country']\n",
    "    description=data['weather'][0]['description']\n",
    "    name=data['name']\n",
    "    print(f'City Name: {name}')\n",
    "    print(f'Country Name: {country}')\n",
    "    print(f'Temperature: {temp}\\u00B0C')\n",
    "    print(f'Feels Like: {feel_like}\\u00B0C')\n",
    "    print(f'Minimum Temperature: {min_temp}\\u00B0C')\n",
    "    print(f'Maximum Temperature: {max_temp}\\u00B0C')\n",
    "    print(f'Weather Conditions: {description}')\n",
    "else:\n",
    "    print(\"Data not found\")\n",
    "    "
   ]
  },
  {
   "cell_type": "code",
   "execution_count": null,
   "id": "605acbdd-a87d-4eed-be1d-b133f3571964",
   "metadata": {},
   "outputs": [],
   "source": []
  },
  {
   "cell_type": "code",
   "execution_count": null,
   "id": "ab70a4c1-df09-451f-b283-81cd6f2d22eb",
   "metadata": {},
   "outputs": [],
   "source": []
  }
 ],
 "metadata": {
  "kernelspec": {
   "display_name": "Python [conda env:base] *",
   "language": "python",
   "name": "conda-base-py"
  },
  "language_info": {
   "codemirror_mode": {
    "name": "ipython",
    "version": 3
   },
   "file_extension": ".py",
   "mimetype": "text/x-python",
   "name": "python",
   "nbconvert_exporter": "python",
   "pygments_lexer": "ipython3",
   "version": "3.12.7"
  }
 },
 "nbformat": 4,
 "nbformat_minor": 5
}
